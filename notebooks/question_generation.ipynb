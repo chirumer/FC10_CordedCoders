{
 "cells": [
  {
   "attachments": {},
   "cell_type": "markdown",
   "metadata": {},
   "source": [
    "Text Summarizing"
   ]
  },
  {
   "cell_type": "code",
   "execution_count": 4,
   "metadata": {},
   "outputs": [],
   "source": [
    "from summarizer import Summarizer\n",
    "from transformers import logging, AutoConfig, AutoTokenizer, AutoModel\n",
    "logging.set_verbosity_error()\n",
    "import warnings\n",
    "warnings.filterwarnings(\"ignore\")\n",
    "\n",
    "# alternate: bert-large-uncased (better summary)\n",
    "custom_config = AutoConfig.from_pretrained('mrm8488/bert-tiny-finetuned-squadv2')\n",
    "custom_config.output_hidden_states=True\n",
    "custom_tokenizer = AutoTokenizer.from_pretrained('mrm8488/bert-tiny-finetuned-squadv2')\n",
    "custom_model = AutoModel.from_pretrained('mrm8488/bert-tiny-finetuned-squadv2', config=custom_config)\n",
    "\n",
    "model = Summarizer(custom_model=custom_model, custom_tokenizer=custom_tokenizer)"
   ]
  },
  {
   "cell_type": "code",
   "execution_count": 71,
   "metadata": {},
   "outputs": [
    {
     "name": "stdout",
     "output_type": "stream",
     "text": [
      "\n"
     ]
    }
   ],
   "source": [
    "f = open(\"sample.txt\",\"r\")\n",
    "full_text = f.read()\n",
    "result = model(full_text, min_length=60, max_length = 500 , ratio = 0.4)\n",
    "summarized_text = ''.join(result)\n",
    "print (summarized_text)"
   ]
  },
  {
   "cell_type": "code",
   "execution_count": 72,
   "metadata": {},
   "outputs": [
    {
     "data": {
      "text/plain": [
       "\"here are the letters the Romans gave us the near the countries whose languages derived from Latin today they cover half the world as for the ancient Romans the boundaries of the states encompassed their entire civilization the Roman peace or Pax Romana serves as the first example of globalization let's take a walk across 12 centuries of the Roman history and yes those numerals are also a Roman legacy what is Rome City on seven hills capital of Italy but that is today two thousand years ago there it is another thousand years ago they're a tiny tribal settlement of the Latins by the river Tiber how did this manage to conquer the world first it was lucky with its neighbors to the north the Etruscans of modern Tuscany and mysterious people whose language has never been fully decipher to the south Greek colonies these peoples all traded with each other it was at the crossroads of their trade routes that Rome appeared from the very start bromas villain open city a safe haven for outcasts murderers runaway slaves Rome offered migrants a unique opportunity to become fully fledged citizens this will make Rome the largest metropolitan city of the ancient world the Romans themselves believed there were descendants of refugees from the Middle East who had survived the Trojan War Romulus and Remus were the great grandchildren of the Trojan hero Aeneas nursed by an Italian she-wolf the brothers quarrelled we're to cite the future world capital Romulus killed Remus gave his name to the city and became its first ruler as legend has it there were seven kings each of which enjoyed a lengthy reign and left some beneficial legacy a calendar a Sioux system or the capitolium a temple to the senior god Jupiter much of what the Romans later became famous for aqueducts bridges perhaps even the gladiatorial games were borrowed from the this people had invented the Latin alphabet by adapting the Greek letters for their own needs as the surprising that their last Kings were Etruscan Rome borrowed her military and government organization from them while maintaining her Stern patriarchal simplicity in 509 Rome was shaken by a sex scandal the son of King Tarquin the proud raped the chaste Lucretia taco was expelled making him the last king of Rome the Romans decided to prevent any such concentration of power ever again from 509 onwards they elect two consuls to serve a European instead of a monarch the consuls were controlled by the Senate this consisted of three hundred fathers Patras in latin hence the term patricians those not so lucky to be born into the right family x' joining the plebs even if they were as rich as patricians they were not entitled to take up positions in the state it is in the 200 years struggle for these rights that the republic literally meaning the public claim will be formed the praveen's would make up the backbone of the army that they have their own way they would threaten the fledgling state that immigration to a neighboring hill each time the scared patricians caved in introducing for instance the special position of a representative or Tribune of the plebeians these had the right to veto any decisions of the concepts one of the main achievements of this flood was the publication of the first written laws by 287 BC the plebeians had achieved complete equality of rights the unity of Rome found its best expression in the formula sonatas Papa loose clay Romanus the Senate and the Roman people which still adorns the manhole covers in Rome in 3 900 BC the history of Rome could have come to an end the city was unexpectedly taken by the dolls the guard dogs had sense no danger for which they would be crucified every year six geese a walk the last protectors of the Capitoline hill fortress instead saving Rome from complete destruction the shaken Romans conduct that \""
      ]
     },
     "execution_count": 72,
     "metadata": {},
     "output_type": "execute_result"
    }
   ],
   "source": [
    "full_text"
   ]
  },
  {
   "attachments": {},
   "cell_type": "markdown",
   "metadata": {},
   "source": [
    "extract N (best) nouns from text"
   ]
  },
  {
   "cell_type": "code",
   "execution_count": 66,
   "metadata": {},
   "outputs": [
    {
     "name": "stderr",
     "output_type": "stream",
     "text": [
      "[nltk_data] Downloading package stopwords to\n",
      "[nltk_data]     /Users/chiragmanjeshwar/nltk_data...\n",
      "[nltk_data]   Package stopwords is already up-to-date!\n"
     ]
    }
   ],
   "source": [
    "import nltk\n",
    "nltk.download('stopwords')\n",
    "\n",
    "import pke\n",
    "import string\n",
    "from nltk.corpus import stopwords"
   ]
  },
  {
   "cell_type": "code",
   "execution_count": 68,
   "metadata": {},
   "outputs": [],
   "source": [
    "def get_n_nouns(text, n):\n",
    "  text = text.lower()\n",
    "  \n",
    "  extractor = pke.unsupervised.MultipartiteRank()\n",
    "  stoplist = list(string.punctuation)\n",
    "  stoplist += ['-lrb-', '-rrb-', '-lcb-', '-rcb-', '-lsb-', '-rsb-']\n",
    "  stoplist += stopwords.words('english')\n",
    "  extractor.load_document(input=text, stoplist=stoplist)\n",
    "\n",
    "  pos = {'PROPN'}\n",
    "\n",
    "  extractor.candidate_selection(pos=pos)\n",
    "  max_n = len(extractor.candidates)\n",
    "\n",
    "  if (len(extractor.candidates) < max_n):\n",
    "    return [i for i in extractor.candidates if i in text]\n",
    "\n",
    "  for i in range(1, max_n+1):\n",
    "    extractor.candidate_weighting(alpha=1.1,\n",
    "                                    threshold=0.75,\n",
    "                                    method='average')\n",
    "    nouns = [i[0] for i in extractor.get_n_best(i) if i[0] in text]\n",
    "    if len(nouns) == n:\n",
    "      return nouns\n",
    "\n",
    "  return nouns"
   ]
  },
  {
   "cell_type": "code",
   "execution_count": 69,
   "metadata": {},
   "outputs": [
    {
     "data": {
      "text/plain": [
       "['hindu', 'ellora', 'karla', 'east']"
      ]
     },
     "execution_count": 69,
     "metadata": {},
     "output_type": "execute_result"
    }
   ],
   "source": [
    "get_n_nouns(full_text, 4)"
   ]
  }
 ],
 "metadata": {
  "kernelspec": {
   "display_name": "Python 3",
   "language": "python",
   "name": "python3"
  },
  "language_info": {
   "codemirror_mode": {
    "name": "ipython",
    "version": 3
   },
   "file_extension": ".py",
   "mimetype": "text/x-python",
   "name": "python",
   "nbconvert_exporter": "python",
   "pygments_lexer": "ipython3",
   "version": "3.11.3"
  },
  "orig_nbformat": 4
 },
 "nbformat": 4,
 "nbformat_minor": 2
}
